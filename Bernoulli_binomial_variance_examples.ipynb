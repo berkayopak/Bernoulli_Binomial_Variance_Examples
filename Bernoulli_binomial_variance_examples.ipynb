{
  "nbformat": 4,
  "nbformat_minor": 0,
  "metadata": {
    "colab": {
      "name": "Bernoulli_binomial_variance_examples.ipynb",
      "version": "0.3.2",
      "provenance": [],
      "collapsed_sections": [],
      "include_colab_link": true
    },
    "kernelspec": {
      "name": "python3",
      "display_name": "Python 3"
    }
  },
  "cells": [
    {
      "cell_type": "markdown",
      "metadata": {
        "id": "view-in-github",
        "colab_type": "text"
      },
      "source": [
        "<a href=\"https://colab.research.google.com/github/berkayopak/Bernoulli_Binomial_Variance_Examples/blob/master/Bernoulli_binomial_variance_examples.ipynb\" target=\"_parent\"><img src=\"https://colab.research.google.com/assets/colab-badge.svg\" alt=\"Open In Colab\"/></a>"
      ]
    },
    {
      "cell_type": "markdown",
      "metadata": {
        "id": "EsuSmf5_s-eB",
        "colab_type": "text"
      },
      "source": [
        "# Bernoulli distribution\n",
        "\n",
        "The Bernoulli distribution is a discrete distribution having two possible outcomes labelled by n=0 and n=1 in which n=1 (\"success\") occurs with probability p and n=0 (\"failure\") occurs with probability q=1-p, where 0<p<1. It therefore has probability density function\n",
        "\n",
        "![alt text](http://mathworld.wolfram.com/images/equations/BernoulliDistribution/NumberedEquation1.gif)\n",
        "\n",
        "which can also be written \n",
        "\n",
        "![alt text](http://mathworld.wolfram.com/images/equations/BernoulliDistribution/NumberedEquation2.gif)\n",
        "\n",
        "The corresponding distribution function is \n",
        "\n",
        "![alt text](http://mathworld.wolfram.com/images/equations/BernoulliDistribution/NumberedEquation3.gif)"
      ]
    },
    {
      "cell_type": "code",
      "metadata": {
        "id": "-ZdBltaZZOHL",
        "colab_type": "code",
        "colab": {}
      },
      "source": [
        "import operator as op\n",
        "import functools \n",
        "import sys \n",
        "\n",
        "\n",
        "def ncr(n, r):\n",
        "    r = min(r, n-r)\n",
        "    if r == 0: return 1\n",
        "    numer = functools.reduce(op.mul, range(n, n-r, -1))\n",
        "    denom = functools.reduce(op.mul, range(1, r+1))\n",
        "    return numer//denom\n",
        "\n",
        "def bernoulli_trial(n, k, p):\n",
        "    return ncr(n, k) * (p**k) * ((1 - p)**(n - k))\n"
      ],
      "execution_count": 0,
      "outputs": []
    },
    {
      "cell_type": "markdown",
      "metadata": {
        "id": "9XMUdA39oq9I",
        "colab_type": "text"
      },
      "source": [
        "### Example\n",
        "A coin is thrown 6 times. How is the probability that the result is exactly 4 times 'head' and 2 time 'tail':"
      ]
    },
    {
      "cell_type": "code",
      "metadata": {
        "id": "f2wpMEOna0bk",
        "colab_type": "code",
        "colab": {
          "base_uri": "https://localhost:8080/",
          "height": 90
        },
        "outputId": "cd4819e3-88a3-4231-a630-b80ff50b6e21"
      },
      "source": [
        "print(\"4 times head : \")\n",
        "print(bernoulli_trial(6, 4, 0.5))\n",
        "print(\"2 times tail : \")\n",
        "print(bernoulli_trial(6, 2, 0.5))"
      ],
      "execution_count": 74,
      "outputs": [
        {
          "output_type": "stream",
          "text": [
            "4 times head : \n",
            "0.234375\n",
            "2 times tail : \n",
            "0.234375\n"
          ],
          "name": "stdout"
        }
      ]
    },
    {
      "cell_type": "markdown",
      "metadata": {
        "id": "sL-rS145t2yt",
        "colab_type": "text"
      },
      "source": [
        "# Binomial distribution\n",
        "A binomial distribution can be thought of as simply the probability of a SUCCESS or FAILURE outcome in an experiment or survey that is repeated multiple times. The binomial is a type of distribution that has two possible outcomes (the prefix “bi” means two, or twice). For example, a coin toss has only two possible outcomes: heads or tails and taking a test could have two possible outcomes: pass or fail.\n",
        "\n",
        "## Criteria\n",
        "\n",
        "Binomial distributions must also meet the following three criteria:\n",
        "\n",
        "   * The number of observations or trials is fixed. In other words, you can only figure out the probability of something happening if you do it a certain number of times. This is common sense—if you toss a coin once, your probability of getting a tails is 50%. If you toss a coin a 20 times, your probability of getting a tails is very, very close to 100%.\n",
        "   * Each observation or trial is independent. In other words, none of your trials have an effect on the probability of the next trial.\n",
        "   * The probability of success (tails, heads, fail or pass) is exactly the same from one trial to another.\n"
      ]
    },
    {
      "cell_type": "markdown",
      "metadata": {
        "id": "TP9SWwAnpq5U",
        "colab_type": "text"
      },
      "source": [
        "### Example\n",
        "60% of people who purchase sports cars are men.  If 10 sports car owners are randomly selected, find the probability that exactly 7 are men."
      ]
    },
    {
      "cell_type": "code",
      "metadata": {
        "id": "MOfoDWyCdwCR",
        "colab_type": "code",
        "colab": {
          "base_uri": "https://localhost:8080/",
          "height": 35
        },
        "outputId": "f9b7a054-1e26-46a6-8a8c-076ba0e48564"
      },
      "source": [
        "n=10#float(input(\"Enter number of objects:\\n\"))\n",
        "p=0.6#float(input(\"Enter probability of success:\\n\"))\n",
        "start=7#int(input(\"Enter start of range:\\n\"))\n",
        "end=7#int(input(\"Enter end of range:\\n\"))\n",
        "\n",
        "def factorial(n):\n",
        "    if(n==1):\n",
        "        return 1\n",
        "    else:\n",
        "        return n*factorial(n-1)\n",
        "\n",
        "def binomial(n,p,x):\n",
        "    return ((factorial(n)/(factorial(n-x)*factorial(x)))*(p**x)*((1-p)**(n-x)))\n",
        "\n",
        "ans=0\n",
        "for i in range(start,end+1): #true value of range\n",
        "    ans=ans+binomial(n,p,i)\n",
        "\n",
        "print(\"Answer is\",ans)"
      ],
      "execution_count": 75,
      "outputs": [
        {
          "output_type": "stream",
          "text": [
            "Answer is 0.21499084799999998\n"
          ],
          "name": "stdout"
        }
      ]
    },
    {
      "cell_type": "markdown",
      "metadata": {
        "id": "kSmTKMNsu-IT",
        "colab_type": "text"
      },
      "source": [
        "# Variance\n",
        "The Variance is defined as the average of the squared differences from the Mean.\n",
        "\n",
        "To calculate the variance follow these steps:\n",
        "* Work out the Mean (the simple average of the numbers)\n",
        "* Then for each number: subtract the Mean and square the result (the squared difference).\n",
        "* Then work out the average of those squared differences.\n",
        "\n",
        "## Why square the differences?\n",
        "If we just add up the differences from the mean ... the negatives cancel the positives: \n",
        "\n",
        "![alt text](https://www.mathsisfun.com/data/images/standard-deviation-why-a.gif)\n",
        "```(4 + 4 − 4 − 4) / 4 = 0```\n",
        "\n",
        "So that won't work. How about we use absolute values?\n",
        "\n",
        "![alt text](https://www.mathsisfun.com/data/images/standard-deviation-why-a.gif)\n",
        " \t```(|4| + |4| + |−4| + |−4|) / 4 \n",
        "  = (4 + 4 + 4 + 4) / 4 = 4```\n",
        "\n",
        "That looks good (and is the Mean Deviation), but what about this case:\n",
        "\n",
        "![alt text](https://www.mathsisfun.com/data/images/standard-deviation-why-b.gif)\n",
        "``` (|7| + |1| + |−6| + |−2|) / 4 = (7 + 1 + 6 + 2) / 4 = 4```\n",
        "\n",
        "Oh No! It also gives a value of 4, Even though the differences are more spread out.\n",
        "\n",
        "So let us try squaring each difference (and taking the square root at the end): \n",
        "\n",
        "![alt text](https://www.mathsisfun.com/data/images/standard-deviation-why-b.gif)\n",
        "```√( (7^2 + 1^2 + 6^2 + 2^2) / 4) = √( 90 / 4 ) = 4,74...```\n",
        "\n",
        "That is nice! The Standard Deviation is bigger when the differences are more spread out ... just what we want.\n",
        "\n",
        "In fact this method is a similar idea to distance between points, just applied in a different way.\n",
        "\n",
        "And it is easier to use algebra on squares and square roots than absolute values, which makes the standard deviation easy to use in other areas of mathematics.\n",
        "\n",
        "\n",
        "### Example"
      ]
    },
    {
      "cell_type": "code",
      "metadata": {
        "id": "NdKJntiyhBN7",
        "colab_type": "code",
        "colab": {}
      },
      "source": [
        "def mean(data):\n",
        "    n = len(data)\n",
        "    if n < 1:\n",
        "        raise StatisticsError('mean requires at least one data point')\n",
        "    total = sum(data)\n",
        "    return total/n\n",
        "\n",
        "def _ss(data):\n",
        "    \"\"\"Return sum of square deviations of sequence data.\"\"\"\n",
        "    c = mean(data)\n",
        "    total = _sum((x-c)**2 for x in data)\n",
        "    total2 = _sum((x-c) for x in data)\n",
        "    total -=  total2**2/len(data)\n",
        "    assert not total < 0, 'negative sum of square deviations: %f' % total\n",
        "    return (total)\n",
        "def variance(data):\n",
        "    n = len(data)\n",
        "    if n < 2:\n",
        "        raise StatisticsError('variance requires at least two data points')\n",
        "    ss = _ss(data)\n",
        "    return ss/(n)"
      ],
      "execution_count": 0,
      "outputs": []
    },
    {
      "cell_type": "markdown",
      "metadata": {
        "id": "waaDjf9SqTHa",
        "colab_type": "text"
      },
      "source": [
        "You and your friends have just measured the heights of your dogs (in millimeters):\n",
        "![alt text](https://www.mathsisfun.com/data/images/statistics-dogs-graph.gif)\n",
        "\n",
        "The heights (at the shoulders) are: 600mm, 470mm, 170mm, 430mm and 300mm.\n",
        "\n",
        "Find out the Mean, the Variance, and the Standard Deviation.\n",
        "\n",
        "Your first step is to find the Mean:\n",
        "\n",
        "Mean \t= \t(600 + 470 + 170 + 430 + 300) / 5   = \t1970 / 5   = \t394\n",
        "\n",
        "so the mean (average) height is 394 mm. Let's plot this on the chart:\n",
        "\n",
        "![alt text](https://www.mathsisfun.com/data/images/statistics-dogs-mean.gif)\n",
        "\n",
        "Now we calculate each dog's difference from the Mean:\n",
        "\n",
        "![alt text](https://www.mathsisfun.com/data/images/statistics-dogs-deviation.gif)\n",
        "\n",
        "To calculate the Variance, take each difference, square it, and then average the result:\n",
        "\n",
        "\n",
        "```\n",
        "# Variance\n",
        "σ^2   = \t(206^2 + 76^2 + (−224)^2 + 36^2 + (−94)^2) / 5\n",
        "  \t= \t(42436 + 5776 + 50176 + 1296 + 8836) / 5\n",
        "  \t= \t108520 / 5\n",
        "  \t= \t21704\n",
        "```\n",
        "\n"
      ]
    },
    {
      "cell_type": "code",
      "metadata": {
        "id": "TrDmzRsEhnI3",
        "colab_type": "code",
        "colab": {
          "base_uri": "https://localhost:8080/",
          "height": 35
        },
        "outputId": "fbd85579-872b-493d-b0b8-d930963c65e8"
      },
      "source": [
        "data = [600, 470, 170, 430, 300]\n",
        "print(\"So the Variance is \" + str(variance(data)))"
      ],
      "execution_count": 83,
      "outputs": [
        {
          "output_type": "stream",
          "text": [
            "So the Variance is 21704.0\n"
          ],
          "name": "stdout"
        }
      ]
    }
  ]
}